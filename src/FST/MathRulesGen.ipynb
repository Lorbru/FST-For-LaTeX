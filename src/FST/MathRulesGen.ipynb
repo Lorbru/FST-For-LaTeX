{
 "cells": [
  {
   "cell_type": "markdown",
   "metadata": {},
   "source": [
    "# "
   ]
  },
  {
   "cell_type": "markdown",
   "metadata": {},
   "source": [
    "# Vocabulaire et grammaire du langage Tex (fr)"
   ]
  },
  {
   "cell_type": "code",
   "execution_count": 1,
   "metadata": {},
   "outputs": [],
   "source": [
    "import pynini\n",
    "import pandas as pd\n",
    "import json\n",
    "\n",
    "ENCODING = 'utf-8'"
   ]
  },
  {
   "cell_type": "markdown",
   "metadata": {},
   "source": [
    "## 1. Noms de variables"
   ]
  },
  {
   "cell_type": "markdown",
   "metadata": {},
   "source": [
    "### 1.1 Caractères"
   ]
  },
  {
   "cell_type": "code",
   "execution_count": 2,
   "metadata": {},
   "outputs": [],
   "source": [
    "chars = [chr(i) for i in range(ord('a'), ord('z') + 1)]\n",
    "Chars = [chr(i) for i in range(ord('A'), ord('Z') + 1)]"
   ]
  },
  {
   "cell_type": "code",
   "execution_count": 3,
   "metadata": {},
   "outputs": [],
   "source": [
    "# minuscules\n",
    "min_char = {\n",
    "    char:[char] for char in chars\n",
    "}\n",
    "\n",
    "# majuscules\n",
    "maj_char = {\n",
    "    char:[\"grand \" + char.lower()] for char in Chars \n",
    "}\n",
    "\n",
    "# lettres calligraphiques\n",
    "cal_char = {\n",
    "    \"\\\\mathcal { \" + char + \" }\":[char.lower() + \" calligraphique\"] for char in Chars \n",
    "}\n",
    "\n",
    "# black board\n",
    "mbb_char = {\n",
    "    \"\\\\mathbb { \" + char + \" }\":[char.lower() + \" double barre\", char.lower() + \" avec double barre\", \"double barre \" + char.lower(), \"black board \" + char.lower()] for char in Chars\n",
    "}\n",
    "\n"
   ]
  },
  {
   "cell_type": "markdown",
   "metadata": {},
   "source": [
    "### 1.2 Lettres grecques"
   ]
  },
  {
   "cell_type": "code",
   "execution_count": 4,
   "metadata": {},
   "outputs": [],
   "source": [
    "greek_min_var_names = [\n",
    "    \"alpha\", \n",
    "    \"beta\",\n",
    "    \"gamma\",\n",
    "    \"delta\",\n",
    "    \"epsilon\",\n",
    "    \"zeta\",\n",
    "    \"eta\",\n",
    "    \"theta\",\n",
    "    \"iota\",\n",
    "    \"kappa\",\n",
    "    \"lambda\",\n",
    "    \"mu\",\n",
    "    \"nu\",\n",
    "    \"xi\",\n",
    "    \"pi\",\n",
    "    \"rho\",\n",
    "    \"sigma\",\n",
    "    \"tau\",\n",
    "    \"upsilon\",\n",
    "    \"phi\",\n",
    "    \"chi\",\n",
    "    \"psi\",\n",
    "    \"omega\"\n",
    "]\n",
    "\n",
    "greek_maj_var_names = [\n",
    "    \"Gamma\",\n",
    "    \"Delta\",\n",
    "    \"Theta\",\n",
    "    \"Lambda\",\n",
    "    \"Xi\",\n",
    "    \"Pi\",\n",
    "    \"Sigma\",\n",
    "    \"Phi\",\n",
    "    \"Omega\"\n",
    "]"
   ]
  },
  {
   "cell_type": "code",
   "execution_count": 5,
   "metadata": {},
   "outputs": [],
   "source": [
    "# minuscules\n",
    "greek_min_vars = {\n",
    "    \"\\\\\" + var : [var] for var in greek_min_var_names\n",
    "}\n",
    "greek_min_vars[\"\\\\xi\"] = [\"xi\", \"ksi\"]\n",
    "greek_min_vars[\"\\\\chi\"] = [\"chi\", \"khi\"]\n",
    "\n",
    "# majuscules\n",
    "greek_maj_vars = {\n",
    "    \"\\\\\" + var : [\"grand \" + var.lower()] for var in greek_maj_var_names\n",
    "}\n",
    "greek_maj_vars[\"\\\\Xi\"] = [\"grand xi\", \"grand ksi\"]\n",
    "\n",
    "# varname\n",
    "greek_var_vars = {\n",
    "    \"\\\\varepsilon\":[\"varepsilon\", \"var epsilon\"],\n",
    "    \"\\\\varpi\":[\"varpi\", \"var pi\"],\n",
    "    \"\\\\varrho\":[\"varrho\", \"var rho\"],\n",
    "    \"\\\\varsigma\":[\"varsigma\", \"var sigma\"]\n",
    "}"
   ]
  },
  {
   "cell_type": "markdown",
   "metadata": {},
   "source": [
    "## 2. Valeurs "
   ]
  },
  {
   "cell_type": "markdown",
   "metadata": {},
   "source": [
    "### 2.1 Chiffres"
   ]
  },
  {
   "cell_type": "code",
   "execution_count": 6,
   "metadata": {},
   "outputs": [],
   "source": [
    "# chiffres\n",
    "digit = {\n",
    "\n",
    "    \"0\":[\"zero\",\"0\"],\n",
    "    \"1\":[\"un\",\"1\"],\n",
    "    \"2\":[\"deux\",\"2\"],\n",
    "    \"3\":[\"trois\",\"3\"],\n",
    "    \"4\":[\"quatre\",\"4\"],\n",
    "    \"5\":[\"cinq\", \"5\"],\n",
    "    \"6\":[\"six\", \"6\"],\n",
    "    \"7\":[\"sept\", \"7\"],\n",
    "    \"8\":[\"huit\", \"8\"],\n",
    "    \"9\":[\"neuf\", \"9\"]\n",
    "\n",
    "}"
   ]
  },
  {
   "cell_type": "markdown",
   "metadata": {},
   "source": [
    "### 2.2 Infini"
   ]
  },
  {
   "cell_type": "code",
   "execution_count": 7,
   "metadata": {},
   "outputs": [],
   "source": [
    "infty = {\n",
    "    \"\\\\infty\":[\"infini\"]\n",
    "}"
   ]
  },
  {
   "cell_type": "markdown",
   "metadata": {},
   "source": [
    "### 2.3 Ensembles"
   ]
  },
  {
   "cell_type": "code",
   "execution_count": 8,
   "metadata": {},
   "outputs": [],
   "source": [
    "sets = {\n",
    "    \"\\\\mathbb { N }\" : [\"entiers naturels\", \"ensemble des entiers naturels\", \"ensemble grand n\"],\n",
    "    \"\\\\mathbb { Z }\" : [\"entiers relatifs\", \"ensemble des entiers relatifs\", \"ensemble grand z\"],\n",
    "    \"\\\\mathbb { Q }\" : [\"rationnels\", \"ensemble des rationnels\", \"ensemble rationnel\", \"ensemble grand q\"],\n",
    "    \"\\\\mathbb { R }\" : [\"reel\", \"ensemble des reels\", \"ensemble reel\", \"ensemble grand r\"],\n",
    "    \"\\\\mathbb { C }\" : [\"complexe\", \"ensemble des complexes\", \"ensemble complexe\", \"ensemble grand c\"],\n",
    "}"
   ]
  },
  {
   "cell_type": "markdown",
   "metadata": {},
   "source": [
    "## 3. Relations"
   ]
  },
  {
   "cell_type": "code",
   "execution_count": 9,
   "metadata": {},
   "outputs": [],
   "source": [
    "rel = {\n",
    "\n",
    "    # ordre\n",
    "    \">\":['plus grand', 'superieur', \"plus grand que\", \"superieur à\"],\n",
    "    \"\\\\geq\":['plus grand ou egal', 'superieur ou egal', 'plus grand ou egal à', \"superieur ou egal à\"],\n",
    "    \"<\":['plus petit', 'inferieur', 'plus petit que', 'inferieur à'],\n",
    "    \"\\\\leq\":['plus petit ou egal', 'inferieur ou egal', 'plus petit ou egal à', 'inferieur ou egal à'],\n",
    "\n",
    "    # égalité\n",
    "    \"=\":[\"egal\", \"egal à\"],\n",
    "    \"\\\\neq\":[\"different\", \"different de\"],\n",
    "    \"\\\\simeq\":[\"environ egal\", \"environ egal à\", \"isomorphe\", \"isomorphe à\"],\n",
    "    \"\\\\propto\":[\"proportionnel\", \"proportionnel à\"],\n",
    "    \"\\\\sim\":[\"suit\"],\n",
    "    \n",
    "    # ensembles\n",
    "    \"\\\\in\":[\"appartient\", \"appartient à\", \"dans\"],\n",
    "    \"\\\\notin\":[\"appartient pas\", \"appartient pas à\"],\n",
    "    \"\\\\subset\":[\"inclu\", \"inclu dans\"],\n",
    "    \"\\\\subseteq\":[\"inclu ou egal\", \"inclu ou egal à\"],\n",
    "    \"\\\\not\\\\subset\":[\"pas inclu\", \"pas inclu dans\", \"non inclu\", \"non inclu dans\"],\n",
    "    \"\\\\not\\\\subseteq\":[\"pas inclu ou egal\", \"non inclu ou egal\", \"pas inclu ou egal à\", \"non inclu ou egal à\"],\n",
    "\n",
    "    # convergence et équivalences\n",
    "    \"\\\\Rightarrow\":['implique'],\n",
    "    \"\\\\Leftrightarrow\":[\"equivalent\"],\n",
    "    \"\\\\rightarrow\":['fleche'],\n",
    "    \"\\\\longrightarrow\":['longue fleche', 'tend vers'],\n",
    "    '\\\\overset { L } { \\\\longrightarrow }':['converge en loi'],\n",
    "    '\\\\overset { \\\\mathbb { P } } { \\\\longrightarrow }':['converge en probabilite'],\n",
    "\n",
    "    # espace entre expressions\n",
    "    '\\\\quad':['espace']\n",
    "\n",
    "}"
   ]
  },
  {
   "cell_type": "markdown",
   "metadata": {},
   "source": [
    "## 4. Opérateurs"
   ]
  },
  {
   "cell_type": "markdown",
   "metadata": {},
   "source": [
    "### 4.1 Quantificateurs logiques"
   ]
  },
  {
   "cell_type": "code",
   "execution_count": 10,
   "metadata": {},
   "outputs": [],
   "source": [
    "quantif = {\n",
    "    \"\\\\forall\":['pour tout'],\n",
    "    \"\\\\exists\":['existe'],\n",
    "    \"\\\\exists !\":['existe un unique', 'existe unique'],\n",
    "}"
   ]
  },
  {
   "cell_type": "markdown",
   "metadata": {},
   "source": [
    "### 4.2 Opérateurs unaires"
   ]
  },
  {
   "cell_type": "code",
   "execution_count": 11,
   "metadata": {},
   "outputs": [],
   "source": [
    "un_op = {\n",
    "\n",
    "   \"+\":['plus'],\n",
    "   \"-\":[\"moins\"],\n",
    "   \"\\\\neg\" : ['non', 'negation', 'negation de'],\n",
    "   \"\\\\partial\" : [\"d rond\", \"d rond de\", \"derivee partielle\", \"derivee partielle de\"],\n",
    "   \"\\\\nabla\" : [\"gradient\", \"gradient de\"]\n",
    "\n",
    "}"
   ]
  },
  {
   "cell_type": "markdown",
   "metadata": {},
   "source": [
    "### 4.3 Opérateurs binaires"
   ]
  },
  {
   "cell_type": "code",
   "execution_count": 12,
   "metadata": {},
   "outputs": [],
   "source": [
    "bin_op = {\n",
    "\n",
    "    '+':['plus'],\n",
    "    '-':['moins'],\n",
    "    '.':['point', 'scalaire'],\n",
    "    '\\\\circ':['rond'],\n",
    "    '\\\\cup':['union'],\n",
    "    '\\\\cap':['inter'],\n",
    "    '\\\\times':['croix'],\n",
    "    '\\\\otimes':['tenseur', 'produit tensoriel', 'croix rond'],\n",
    "    '\\\\oplus':['somme directe', 'plus rond'],\n",
    "    '\\\\setminus':['prive', 'prive de'],\n",
    "    \"\\\\vee\":['ou'],\n",
    "    \"\\\\wedge\":['et'],\n",
    "\n",
    "}"
   ]
  },
  {
   "cell_type": "markdown",
   "metadata": {},
   "source": [
    "## 5. Indice et exposant"
   ]
  },
  {
   "cell_type": "code",
   "execution_count": 13,
   "metadata": {},
   "outputs": [],
   "source": [
    "# indice\n",
    "subscript = {\n",
    "    \"_\":[\"indice\", \"underscore\"]\n",
    "}\n",
    "\n",
    "# exposant \n",
    "supscript = {\n",
    "    \"^\":[\"exposant\", \"puissance\", \"supscript\"]\n",
    "}"
   ]
  },
  {
   "cell_type": "markdown",
   "metadata": {},
   "source": [
    "## 6. Fonctions et iterateurs"
   ]
  },
  {
   "cell_type": "markdown",
   "metadata": {},
   "source": [
    "### 6.1 Fonctions usuelles"
   ]
  },
  {
   "cell_type": "code",
   "execution_count": 14,
   "metadata": {},
   "outputs": [],
   "source": [
    "func_names = {\n",
    "\n",
    "    # symboles de fonctions usuelles\n",
    "    '\\\\min':['minimum', 'min'],\n",
    "    '\\\\max':['maximum', 'max'],\n",
    "    '\\\\exp':['exponentielle', 'exp'],\n",
    "    '\\\\log':['logarithme', 'log'],\n",
    "    '\\\\cos':['cosinus', 'cos'],\n",
    "    '\\\\sin':['sinus', 'sin'],\n",
    "    '\\\\arccos':['arccosinus', 'arc cosinus', 'arccos', 'arc cos'],\n",
    "    '\\\\arcsin':['arcsinus', 'arc sinus', 'arcsin', 'arc sin'],\n",
    "    '\\\\arctan':['arctangente', 'arc tangente', 'arctan', 'arc tan'],\n",
    "    '\\\\deg':['deg', 'degre'],\n",
    "    '\\\\dim':['dim', 'dimension'],\n",
    "    '\\\\det':['det', 'determinant'],\n",
    "    '\\\\mathrm { Re }':['partie relle'],\n",
    "    '\\\\mathrn { Im }':['partie imaginaire'],\n",
    "    '\\\\mathbb { P }':['probabilite'],\n",
    "    '\\\\mathbb { E }':['esperance'],\n",
    "    '\\\\mathbb { V }':['variance'],\n",
    "\n",
    "    # lois\n",
    "    '\\\\mathrm { Ber }':['loi de bernoulli', 'loi bernoulli', 'ber'],\n",
    "    '\\\\mathrm { Bin }':['loi binomiale', 'bin'],\n",
    "    '\\\\mathcal { G }':['loi geometrique'],\n",
    "    '\\\\mathcal { H }':['loi hypergeometrique'],\n",
    "    '\\\\mathcal { P }':['loi de poisson'],\n",
    "    '\\\\mathcal { N }' : ['loi normale'],\n",
    "    '\\\\mathcal { E }':['loi exponentielle'],\n",
    "    '\\\\Gamma':['loi gamma'],\n",
    "    '\\\\chi ^ 2':['chi deux', 'khi deux'],\n",
    "    '\\\\mathcal { T }':['loi de student'],\n",
    "    \n",
    "}"
   ]
  },
  {
   "cell_type": "markdown",
   "metadata": {},
   "source": [
    "### 6.2 Itérateurs"
   ]
  },
  {
   "cell_type": "code",
   "execution_count": 15,
   "metadata": {},
   "outputs": [],
   "source": [
    "iter = {\n",
    "\n",
    "    '\\\\sup':['sup', 'borne superieure'],\n",
    "    '\\\\inf':['inf', 'borne inferieure'],\n",
    "    '\\\\lim':['lim', 'limite'],\n",
    "    '\\\\bigotimes':['le produit tensoriel'],\n",
    "    '\\\\bigoplus':['la somme directe'],\n",
    "    '\\\\bigcup':[\"l' union\"],\n",
    "    '\\\\bigcap':[\"l' intersection\"],\n",
    "    '\\\\sum':['somme'],\n",
    "    '\\\\prod':['produit'],\n",
    "    '\\\\int':[\"integrale\"],\n",
    "    '\\\\mathrm { argmin }':[\"argmin\", \"arg min\", \"minimiseur\"],\n",
    "    '\\\\mathrm { argmax }':[\"argmax\", \"arg max\", \"maximiseur\"]\n",
    "    \n",
    "}"
   ]
  },
  {
   "cell_type": "markdown",
   "metadata": {},
   "source": [
    "### 6.3 Fonctions avec controle de séquence"
   ]
  },
  {
   "cell_type": "code",
   "execution_count": 16,
   "metadata": {},
   "outputs": [],
   "source": [
    "func_cseq = {\n",
    "\n",
    "    '\\\\frac':['fraction', 'rapport'],\n",
    "    '\\\\sqrt':['racine'],\n",
    "    '\\\\binom':['binomial', 'coefficient binomial'],\n",
    "    '\\\\lVert':['norme'],\n",
    "    '\\\\rVert':['fermer la norme', 'fin de la norme'],\n",
    "    '\\\\|':['valeur absolue']\n",
    "\n",
    "}"
   ]
  },
  {
   "cell_type": "markdown",
   "metadata": {},
   "source": [
    "## 7. Symboles spéciaux"
   ]
  },
  {
   "cell_type": "markdown",
   "metadata": {},
   "source": [
    "### 7.1 caractères spéciaux"
   ]
  },
  {
   "cell_type": "code",
   "execution_count": 17,
   "metadata": {},
   "outputs": [],
   "source": [
    "symb = {\n",
    "\n",
    "    ':':['deux points', 'tel que'],\n",
    "    '\\\\dots':['trois points', 'trois petits points'],\n",
    "    ',':['virgule'],\n",
    "    \"'\":['apostrophe', 'prime'],\n",
    "    \"^ *\":['etoile', 'star'],\n",
    "    '!':[\"point d' exclamation\", \"factoriel\"],\n",
    "    '?':[\"point d' interrogation\"],\n",
    "    '\\\\%':['pourcent', 'pour cent'],\n",
    "    '\\\\vert':['conditionnellement', 'barre verticale'],\n",
    "    \n",
    "    \n",
    "}"
   ]
  },
  {
   "cell_type": "markdown",
   "metadata": {},
   "source": [
    "### 7.2 controle de sequence"
   ]
  },
  {
   "cell_type": "code",
   "execution_count": 18,
   "metadata": {},
   "outputs": [],
   "source": [
    "# math cseq\n",
    "math_cseq = {\n",
    "\n",
    "    \"(\":[\"parenthese\"],\n",
    "    \")\":[\"fermer la parenthese\", \"fermer parenthese\", \"parenthese fermante\", \"fin de parenthese\", \"fin parenthese\"],\n",
    "\n",
    "    \"[\":[\"crochet\"],\n",
    "    \"]\":[\"fermer le crochet\", \"fermer crochet\", \"crochet fermant\", \"fin de crochet\", \"fin crochet\"],\n",
    "\n",
    "    \"\\\\{\":[\"ensemble\"],\n",
    "    \"\\\\}\":[\"fermer l' ensemble\", \"fermer ensemble\", \"fin de l' ensemble\", \"fin ensemble\"],\n",
    "\n",
    "}\n",
    "\n",
    "\n",
    "# tex cseq\n",
    "tex_cseq = {\n",
    "\n",
    "    \"{\":[\"accolade\"],\n",
    "    \"}\":[\"fermer l' accolade\", \"fermer accolade\", \"accolade fermante\", \"fin de l' accolade\", \"fin accolade\"]\n",
    "    \n",
    "}"
   ]
  },
  {
   "cell_type": "markdown",
   "metadata": {},
   "source": [
    "## 8. Raccourcis naturels"
   ]
  },
  {
   "cell_type": "code",
   "execution_count": 19,
   "metadata": {},
   "outputs": [],
   "source": [
    "natural_expr = {\n",
    "\n",
    "    # relations d'ordre\n",
    "    \"\\\\geq 0\":[\"positif\"],\n",
    "    \"> 0\":[\"strictement positif\"],\n",
    "    \"\\\\leq 0\":[\"negatif\"],\n",
    "    \"< 0\":[\"strictement negatif\"],\n",
    "\n",
    "    # définition\n",
    "    \": =\":[\"egal par definition\", \"defini par\"],\n",
    "\n",
    "    # ensemble et appartenance\n",
    "    \"\\\\mathbb { N } ^ *\":[\"entier strictement positif\", \"entier naturel non nul\"],\n",
    "    \"\\\\mathbb { Z } ^ *\":[\"entier non nul\", \"relatif non nul\"],\n",
    "    \"\\\\mathbb { R } ^ +\":[\"ensemble des reels positifs\", \"reel positif\"],\n",
    "    \"\\\\mathbb { R } ^ -\":[\"ensemble des reels negatifs\", \"reel negatif\"],\n",
    "    \"\\\\mathbb { R } ^ + _ *\":[\"ensemble des reels strictement positifs\", \"ensemble des reels positifs non nuls\", \"r plus etoile\", \"reel strictement positif\", \"reel positif non nul\"],\n",
    "    \"\\\\mathbb { R } ^ - _ *\":[\"ensemble des reels strictement negatifs\", \"ensemble des reels negatifs non nuls\", \"r moins etoile\", \"reel strictement negatif\", \"reel negatif non nul\"],\n",
    "\n",
    "    # loi normale 0, 1\n",
    "    '\\\\mathcal { N } ( 0 , 1 )':['loi normale centree reduite','loi standard','loi n zero un'],\n",
    "}\n",
    "\n",
    "others = {\n",
    "\n",
    "    '\\\\text { resp. }':['respectivement'],\n",
    "    \n",
    "}"
   ]
  },
  {
   "cell_type": "markdown",
   "metadata": {},
   "source": [
    "## 9. Mots clés de séquence"
   ]
  },
  {
   "cell_type": "code",
   "execution_count": 29,
   "metadata": {},
   "outputs": [],
   "source": [
    "key_seq = {\n",
    "\n",
    "    \"pour\" : [\"pour\"],\n",
    "    \"allant_de\" : [\"allant de\"],\n",
    "    \"à\" : [\"à\"],\n",
    "    \"de\":[\"de\"],\n",
    "    \"sur\" : [\"sur\"],\n",
    "    \"tout_sur\" : [\"le tout sur\", \"tout sur\"],\n",
    "    \"facteur_de\":[\"facteur de\"],\n",
    "    \"tout_facteur_de\" : [\"le tout facteur de\", \"tout facteur de\"],\n",
    "    \"chapeau\" : [\"chapeau\"],\n",
    "    \"tilde\":[\"tilde\"],\n",
    "    \"barre\":[\"barre\"],\n",
    "    \"vecteur\":['vecteur']\n",
    "    \n",
    "}"
   ]
  },
  {
   "cell_type": "markdown",
   "metadata": {},
   "source": [
    "## 10. Enregistrement json"
   ]
  },
  {
   "cell_type": "code",
   "execution_count": 30,
   "metadata": {},
   "outputs": [],
   "source": [
    "tex_grammar = {\n",
    "\n",
    "    # var names\n",
    "    \"var_name\":{\n",
    "\n",
    "        **min_char,\n",
    "        **maj_char,\n",
    "        **cal_char,\n",
    "        **mbb_char,\n",
    "        **greek_min_vars,\n",
    "        **greek_maj_vars,\n",
    "        **greek_var_vars\n",
    "    \n",
    "    },\n",
    "\n",
    "    # vals\n",
    "    \"digit\":digit,\n",
    "    \"infty\":infty,\n",
    "    \"sets\":sets,\n",
    "    \n",
    "    # relations\n",
    "    \"rel\":rel,\n",
    "\n",
    "    # operateurs\n",
    "    \"quantif\":quantif,\n",
    "    \"un_op\":un_op,\n",
    "    \"bin_op\":bin_op,\n",
    "\n",
    "    # indices et exposants\n",
    "    \"subscript\":subscript,\n",
    "    \"supscript\":supscript,\n",
    "\n",
    "    \"func_names\":func_names,\n",
    "    \"iter\":iter,\n",
    "    \"func_cseq\":func_cseq, \n",
    "    \"symb\":symb,\n",
    "\n",
    "    \"math_cseq\":math_cseq,\n",
    "    \"tex_cseq\":tex_cseq,\n",
    "\n",
    "    \n",
    "    \"natural_expr\":natural_expr,\n",
    "    \"other\":others,\n",
    "\n",
    "    \"key_seq\":key_seq,\n",
    "\n",
    "    \n",
    "}"
   ]
  },
  {
   "cell_type": "code",
   "execution_count": 31,
   "metadata": {},
   "outputs": [],
   "source": [
    "with open('grammar/tex_grammar.json', 'w', encoding=ENCODING) as file:\n",
    "    json.dump(tex_grammar, file, indent=4)"
   ]
  },
  {
   "cell_type": "code",
   "execution_count": 32,
   "metadata": {},
   "outputs": [],
   "source": [
    "tex_words = set()\n",
    "seq_words = set()\n",
    "\n",
    "\n",
    "for rules in tex_grammar.values():\n",
    "    commands = rules.keys()\n",
    "    for rule in commands : \n",
    "        tex = rule.split()\n",
    "        for t in tex : \n",
    "            tex_words.add(t)\n",
    "        seqs = rules[rule]\n",
    "        for seq in seqs : \n",
    "            seq = seq.split()\n",
    "            for s in seq : \n",
    "                seq_words.add(s)\n"
   ]
  },
  {
   "cell_type": "markdown",
   "metadata": {},
   "source": [
    "**Mots LaTeX pour les couches de transduction grammaticale :**"
   ]
  },
  {
   "cell_type": "code",
   "execution_count": 33,
   "metadata": {},
   "outputs": [],
   "source": [
    "spec_tex = [\n",
    "\n",
    "    \"\\\\limits\",\n",
    "    \"\\\\tilde\",\n",
    "    \"\\\\overline\",\n",
    "    \"\\\\hat\",\n",
    "    \"\\\\vec\",\n",
    "\n",
    "]\n",
    "\n",
    "\n",
    "for wrd in spec_tex : \n",
    "    tex_words.add(wrd)"
   ]
  },
  {
   "cell_type": "code",
   "execution_count": 34,
   "metadata": {},
   "outputs": [],
   "source": [
    "dic_tex_words = {\n",
    "    \"tex_words\":list(tex_words)\n",
    "}\n",
    "\n",
    "with open('tokens/tex_letters.json', 'w', encoding=ENCODING) as file:\n",
    "    json.dump(dic_tex_words, file, indent=4)"
   ]
  },
  {
   "cell_type": "code",
   "execution_count": 35,
   "metadata": {},
   "outputs": [],
   "source": [
    "input = []\n",
    "output = []\n",
    "\n",
    "for dic in tex_grammar.values():\n",
    "    for tex in dic.keys():\n",
    "        for seq in dic[tex] : \n",
    "            input.append(seq)\n",
    "            output.append(tex) \n",
    "\n",
    "with open('rules/LexicalRules/math_rules_keyseq.txt', 'w', encoding=ENCODING) as writer:\n",
    "    writer.write(\"INPUT;OUTPUT;\\n\")\n",
    "    for i in range(len(input)):\n",
    "        writer.write(input[i] + \";\" + output[i] + \";\\n\")\n",
    "\n",
    "with open('rules/LexicalRules/math_rules.txt', 'w', encoding=ENCODING) as writer:\n",
    "    writer.write(\"INPUT;OUTPUT;\\n\")\n",
    "    for i in range(len(input)):\n",
    "        if not(output[i] in key_seq.keys()): \n",
    "            writer.write(input[i] + \";\" + output[i] + \";\\n\")"
   ]
  },
  {
   "cell_type": "markdown",
   "metadata": {},
   "source": [
    "## 11. Vocabulaire"
   ]
  },
  {
   "cell_type": "code",
   "execution_count": 36,
   "metadata": {},
   "outputs": [
    {
     "data": {
      "text/plain": [
       "{'0',\n",
       " '1',\n",
       " '2',\n",
       " '3',\n",
       " '4',\n",
       " '5',\n",
       " '6',\n",
       " '7',\n",
       " '8',\n",
       " '9',\n",
       " 'a',\n",
       " 'absolue',\n",
       " 'accolade',\n",
       " 'allant',\n",
       " 'alpha',\n",
       " 'apostrophe',\n",
       " 'appartient',\n",
       " 'arc',\n",
       " 'arccos',\n",
       " 'arccosinus',\n",
       " 'arcsin',\n",
       " 'arcsinus',\n",
       " 'arctan',\n",
       " 'arctangente',\n",
       " 'arg',\n",
       " 'argmax',\n",
       " 'argmin',\n",
       " 'avec',\n",
       " 'b',\n",
       " 'barre',\n",
       " 'ber',\n",
       " 'bernoulli',\n",
       " 'beta',\n",
       " 'bin',\n",
       " 'binomial',\n",
       " 'binomiale',\n",
       " 'black',\n",
       " 'board',\n",
       " 'borne',\n",
       " 'c',\n",
       " 'calligraphique',\n",
       " 'cent',\n",
       " 'centree',\n",
       " 'chapeau',\n",
       " 'chi',\n",
       " 'cinq',\n",
       " 'coefficient',\n",
       " 'complexe',\n",
       " 'complexes',\n",
       " 'conditionnellement',\n",
       " 'converge',\n",
       " 'cos',\n",
       " 'cosinus',\n",
       " 'crochet',\n",
       " 'croix',\n",
       " 'd',\n",
       " \"d'\",\n",
       " 'dans',\n",
       " 'de',\n",
       " 'defini',\n",
       " 'definition',\n",
       " 'deg',\n",
       " 'degre',\n",
       " 'delta',\n",
       " 'derivee',\n",
       " 'des',\n",
       " 'det',\n",
       " 'determinant',\n",
       " 'deux',\n",
       " 'different',\n",
       " 'dim',\n",
       " 'dimension',\n",
       " 'directe',\n",
       " 'double',\n",
       " 'e',\n",
       " 'egal',\n",
       " 'en',\n",
       " 'ensemble',\n",
       " 'entier',\n",
       " 'entiers',\n",
       " 'environ',\n",
       " 'epsilon',\n",
       " 'equivalent',\n",
       " 'espace',\n",
       " 'esperance',\n",
       " 'et',\n",
       " 'eta',\n",
       " 'etoile',\n",
       " 'exclamation',\n",
       " 'existe',\n",
       " 'exp',\n",
       " 'exponentielle',\n",
       " 'exposant',\n",
       " 'f',\n",
       " 'facteur',\n",
       " 'factoriel',\n",
       " 'fermant',\n",
       " 'fermante',\n",
       " 'fermer',\n",
       " 'fin',\n",
       " 'fleche',\n",
       " 'fraction',\n",
       " 'g',\n",
       " 'gamma',\n",
       " 'geometrique',\n",
       " 'gradient',\n",
       " 'grand',\n",
       " 'h',\n",
       " 'huit',\n",
       " 'hypergeometrique',\n",
       " 'i',\n",
       " 'imaginaire',\n",
       " 'implique',\n",
       " 'inclu',\n",
       " 'indice',\n",
       " 'inf',\n",
       " 'inferieur',\n",
       " 'inferieure',\n",
       " 'infini',\n",
       " 'integrale',\n",
       " 'inter',\n",
       " 'interrogation',\n",
       " 'intersection',\n",
       " 'iota',\n",
       " 'isomorphe',\n",
       " 'j',\n",
       " 'k',\n",
       " 'kappa',\n",
       " 'khi',\n",
       " 'ksi',\n",
       " 'l',\n",
       " \"l'\",\n",
       " 'la',\n",
       " 'lambda',\n",
       " 'le',\n",
       " 'lim',\n",
       " 'limite',\n",
       " 'log',\n",
       " 'logarithme',\n",
       " 'loi',\n",
       " 'longue',\n",
       " 'm',\n",
       " 'max',\n",
       " 'maximiseur',\n",
       " 'maximum',\n",
       " 'min',\n",
       " 'minimiseur',\n",
       " 'minimum',\n",
       " 'moins',\n",
       " 'mu',\n",
       " 'n',\n",
       " 'naturel',\n",
       " 'naturels',\n",
       " 'negatif',\n",
       " 'negatifs',\n",
       " 'negation',\n",
       " 'neuf',\n",
       " 'non',\n",
       " 'normale',\n",
       " 'norme',\n",
       " 'nu',\n",
       " 'nul',\n",
       " 'nuls',\n",
       " 'o',\n",
       " 'omega',\n",
       " 'ou',\n",
       " 'p',\n",
       " 'par',\n",
       " 'parenthese',\n",
       " 'partie',\n",
       " 'partielle',\n",
       " 'pas',\n",
       " 'petit',\n",
       " 'petits',\n",
       " 'phi',\n",
       " 'pi',\n",
       " 'plus',\n",
       " 'point',\n",
       " 'points',\n",
       " 'poisson',\n",
       " 'positif',\n",
       " 'positifs',\n",
       " 'pour',\n",
       " 'pourcent',\n",
       " 'prime',\n",
       " 'prive',\n",
       " 'probabilite',\n",
       " 'produit',\n",
       " 'proportionnel',\n",
       " 'psi',\n",
       " 'puissance',\n",
       " 'q',\n",
       " 'quatre',\n",
       " 'que',\n",
       " 'r',\n",
       " 'racine',\n",
       " 'rapport',\n",
       " 'rationnel',\n",
       " 'rationnels',\n",
       " 'reduite',\n",
       " 'reel',\n",
       " 'reels',\n",
       " 'relatif',\n",
       " 'relatifs',\n",
       " 'relle',\n",
       " 'respectivement',\n",
       " 'rho',\n",
       " 'rond',\n",
       " 's',\n",
       " 'scalaire',\n",
       " 'sept',\n",
       " 'sigma',\n",
       " 'sin',\n",
       " 'sinus',\n",
       " 'six',\n",
       " 'somme',\n",
       " 'standard',\n",
       " 'star',\n",
       " 'strictement',\n",
       " 'student',\n",
       " 'suit',\n",
       " 'sup',\n",
       " 'superieur',\n",
       " 'superieure',\n",
       " 'supscript',\n",
       " 'sur',\n",
       " 't',\n",
       " 'tan',\n",
       " 'tangente',\n",
       " 'tau',\n",
       " 'tel',\n",
       " 'tend',\n",
       " 'tenseur',\n",
       " 'tensoriel',\n",
       " 'theta',\n",
       " 'tilde',\n",
       " 'tout',\n",
       " 'trois',\n",
       " 'u',\n",
       " 'un',\n",
       " 'underscore',\n",
       " 'union',\n",
       " 'unique',\n",
       " 'upsilon',\n",
       " 'v',\n",
       " 'valeur',\n",
       " 'var',\n",
       " 'varepsilon',\n",
       " 'variance',\n",
       " 'varpi',\n",
       " 'varrho',\n",
       " 'varsigma',\n",
       " 'vecteur',\n",
       " 'vers',\n",
       " 'verticale',\n",
       " 'virgule',\n",
       " 'w',\n",
       " 'x',\n",
       " 'xi',\n",
       " 'y',\n",
       " 'z',\n",
       " 'zero',\n",
       " 'zeta',\n",
       " 'à'}"
      ]
     },
     "execution_count": 36,
     "metadata": {},
     "output_type": "execute_result"
    }
   ],
   "source": [
    "input_set = set()\n",
    "output_set = set()\n",
    "\n",
    "for dic in tex_grammar.values():\n",
    "    for tex in dic.keys():\n",
    "        for seq in dic[tex] :\n",
    "            for wrd in seq.split(): \n",
    "                input_set.add(wrd)\n",
    "        for stex in tex.split():    \n",
    "            output_set.add(stex)\n",
    "\n",
    "input_set"
   ]
  },
  {
   "cell_type": "code",
   "execution_count": 37,
   "metadata": {},
   "outputs": [],
   "source": [
    "with open(\"vocab/vocab.json\", 'w', encoding=ENCODING) as writer : \n",
    "    json.dump({\"vocab\":[i for i in input_set]}, writer, indent=4)"
   ]
  },
  {
   "cell_type": "code",
   "execution_count": null,
   "metadata": {},
   "outputs": [],
   "source": []
  }
 ],
 "metadata": {
  "kernelspec": {
   "display_name": "Python 3",
   "language": "python",
   "name": "python3"
  },
  "language_info": {
   "codemirror_mode": {
    "name": "ipython",
    "version": 3
   },
   "file_extension": ".py",
   "mimetype": "text/x-python",
   "name": "python",
   "nbconvert_exporter": "python",
   "pygments_lexer": "ipython3",
   "version": "3.12.4"
  }
 },
 "nbformat": 4,
 "nbformat_minor": 2
}
