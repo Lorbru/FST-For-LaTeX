{
 "cells": [
  {
   "cell_type": "markdown",
   "metadata": {},
   "source": [
    "# "
   ]
  },
  {
   "cell_type": "markdown",
   "metadata": {},
   "source": [
    "# Vocabulaire et grammaire du langage Tex (fr)"
   ]
  },
  {
   "cell_type": "markdown",
   "metadata": {},
   "source": [
    "Ce fichier permet la définition et la génération des fichiers de règles utilisées par les transducteurs : \n",
    "\n",
    " - Affectation des éléments LaTeX selon les types\n",
    " - Définition de une ou plusieurs séquences de mots associées en langage naturel"
   ]
  },
  {
   "cell_type": "code",
   "execution_count": 33,
   "metadata": {},
   "outputs": [],
   "source": [
    "import pynini\n",
    "import pandas as pd\n",
    "import json\n",
    "\n",
    "ENCODING = 'utf-8'"
   ]
  },
  {
   "cell_type": "markdown",
   "metadata": {},
   "source": [
    "## 1. Noms de variables"
   ]
  },
  {
   "cell_type": "markdown",
   "metadata": {},
   "source": [
    "### 1.1 Caractères"
   ]
  },
  {
   "cell_type": "code",
   "execution_count": 34,
   "metadata": {},
   "outputs": [],
   "source": [
    "chars = [chr(i) for i in range(ord('a'), ord('z') + 1)]\n",
    "Chars = [chr(i) for i in range(ord('A'), ord('Z') + 1)]"
   ]
  },
  {
   "cell_type": "code",
   "execution_count": 35,
   "metadata": {},
   "outputs": [],
   "source": [
    "# minuscules\n",
    "min_char = {\n",
    "    char:[char] for char in chars\n",
    "}\n",
    "\n",
    "# majuscules\n",
    "maj_char = {\n",
    "    char:[\"grand \" + char.lower()] for char in Chars \n",
    "}\n",
    "\n",
    "# lettres calligraphiques\n",
    "cal_char = {\n",
    "    \"\\\\mathcal { \" + char + \" }\":[char.lower() + \" calligraphique\"] for char in Chars \n",
    "}\n",
    "\n",
    "# black board\n",
    "mbb_char = {\n",
    "    \"\\\\mathbb { \" + char + \" }\":[char.lower() + \" double barre\", char.lower() + \" avec double barre\", \"double barre \" + char.lower(), \"black board \" + char.lower()] for char in Chars\n",
    "}\n",
    "\n"
   ]
  },
  {
   "cell_type": "markdown",
   "metadata": {},
   "source": [
    "### 1.2 Lettres grecques"
   ]
  },
  {
   "cell_type": "code",
   "execution_count": 36,
   "metadata": {},
   "outputs": [],
   "source": [
    "greek_min_var_names = [\n",
    "    \"alpha\", \n",
    "    \"beta\",\n",
    "    \"gamma\",\n",
    "    \"delta\",\n",
    "    \"epsilon\",\n",
    "    \"zeta\",\n",
    "    \"eta\",\n",
    "    \"theta\",\n",
    "    \"iota\",\n",
    "    \"kappa\",\n",
    "    \"lambda\",\n",
    "    \"mu\",\n",
    "    \"nu\",\n",
    "    \"xi\",\n",
    "    \"pi\",\n",
    "    \"rho\",\n",
    "    \"sigma\",\n",
    "    \"tau\",\n",
    "    \"upsilon\",\n",
    "    \"phi\",\n",
    "    \"chi\",\n",
    "    \"psi\",\n",
    "    \"omega\"\n",
    "]\n",
    "\n",
    "greek_maj_var_names = [\n",
    "    \"Gamma\",\n",
    "    \"Delta\",\n",
    "    \"Theta\",\n",
    "    \"Lambda\",\n",
    "    \"Xi\",\n",
    "    \"Pi\",\n",
    "    \"Sigma\",\n",
    "    \"Phi\",\n",
    "    \"Omega\"\n",
    "]"
   ]
  },
  {
   "cell_type": "code",
   "execution_count": 37,
   "metadata": {},
   "outputs": [],
   "source": [
    "# minuscules\n",
    "greek_min_vars = {\n",
    "    \"\\\\\" + var : [var] for var in greek_min_var_names\n",
    "}\n",
    "greek_min_vars[\"\\\\xi\"] = [\"xi\", \"ksi\"]\n",
    "greek_min_vars[\"\\\\chi\"] = [\"chi\", \"khi\"]\n",
    "\n",
    "# majuscules\n",
    "greek_maj_vars = {\n",
    "    \"\\\\\" + var : [\"grand \" + var.lower()] for var in greek_maj_var_names\n",
    "}\n",
    "greek_maj_vars[\"\\\\Xi\"] = [\"grand xi\", \"grand ksi\"]\n",
    "\n",
    "# varname\n",
    "greek_var_vars = {\n",
    "    \"\\\\varepsilon\":[\"varepsilon\", \"var epsilon\"],\n",
    "    \"\\\\varpi\":[\"varpi\", \"var pi\"],\n",
    "    \"\\\\varrho\":[\"varrho\", \"var rho\"],\n",
    "    \"\\\\varsigma\":[\"varsigma\", \"var sigma\"]\n",
    "}\n",
    "\n",
    "# dvar \n",
    "dvar = {\n",
    "    \"d\" + var : [\"d\" + var] for var in chars if var in ['q', 'r', 's', 't', 'u', 'v', 'w', 'x', 'y', 'z']\n",
    "}"
   ]
  },
  {
   "cell_type": "markdown",
   "metadata": {},
   "source": [
    "## 2. Valeurs "
   ]
  },
  {
   "cell_type": "markdown",
   "metadata": {},
   "source": [
    "### 2.1 Chiffres"
   ]
  },
  {
   "cell_type": "code",
   "execution_count": 38,
   "metadata": {},
   "outputs": [],
   "source": [
    "# chiffres\n",
    "digit = {\n",
    "\n",
    "    \"0\":[\"zero\",\"0\"],\n",
    "    \"1\":[\"un\",\"1\"],\n",
    "    \"2\":[\"deux\",\"2\"],\n",
    "    \"3\":[\"trois\",\"3\"],\n",
    "    \"4\":[\"quatre\",\"4\"],\n",
    "    \"5\":[\"cinq\", \"5\"],\n",
    "    \"6\":[\"six\", \"6\"],\n",
    "    \"7\":[\"sept\", \"7\"],\n",
    "    \"8\":[\"huit\", \"8\"],\n",
    "    \"9\":[\"neuf\", \"9\"]\n",
    "\n",
    "}"
   ]
  },
  {
   "cell_type": "markdown",
   "metadata": {},
   "source": [
    "### 2.2 Infini"
   ]
  },
  {
   "cell_type": "code",
   "execution_count": 39,
   "metadata": {},
   "outputs": [],
   "source": [
    "infty = {\n",
    "    \"\\\\infty\":[\"infini\"]\n",
    "}"
   ]
  },
  {
   "cell_type": "markdown",
   "metadata": {},
   "source": [
    "### 2.3 Ensembles"
   ]
  },
  {
   "cell_type": "code",
   "execution_count": 40,
   "metadata": {},
   "outputs": [],
   "source": [
    "sets = {\n",
    "    \"\\\\mathbb { N }\" : [\"entiers naturels\", \"ensemble des entiers naturels\", \"ensemble grand n\"],\n",
    "    \"\\\\mathbb { Z }\" : [\"entiers relatifs\", \"ensemble des entiers relatifs\", \"ensemble grand z\"],\n",
    "    \"\\\\mathbb { Q }\" : [\"rationnels\", \"ensemble des rationnels\", \"ensemble rationnel\", \"ensemble grand q\"],\n",
    "    \"\\\\mathbb { R }\" : [\"reel\", \"ensemble des reels\", \"ensemble reel\", \"ensemble grand r\"],\n",
    "    \"\\\\mathbb { C }\" : [\"complexe\", \"ensemble des complexes\", \"ensemble complexe\", \"ensemble grand c\"],\n",
    "\n",
    "    \"\\\\mathbb { N } ^ { * }\":[\"entier strictement positif\", \"entier naturel non nul\"],\n",
    "    \"\\\\mathbb { Z } ^ { * }\":[\"entier non nul\", \"relatif non nul\"],\n",
    "    \"\\\\mathbb { R } ^ { + }\":[\"ensemble des reels positifs\", \"reel positif\"],\n",
    "    \"\\\\mathbb { R } ^ { - }\":[\"ensemble des reels negatifs\", \"reel negatif\"],\n",
    "    \"\\\\mathbb { R } ^ { + } _ { * }\":[\"ensemble des reels strictement positifs\", \"ensemble des reels positifs non nuls\", \"r plus etoile\", \"reel strictement positif\", \"reel positif non nul\"],\n",
    "    \"\\\\mathbb { R } ^ { - } _ { * }\":[\"ensemble des reels strictement negatifs\", \"ensemble des reels negatifs non nuls\", \"r moins etoile\", \"reel strictement negatif\", \"reel negatif non nul\"],\n",
    "}"
   ]
  },
  {
   "cell_type": "markdown",
   "metadata": {},
   "source": [
    "## 3. Relations"
   ]
  },
  {
   "cell_type": "code",
   "execution_count": 41,
   "metadata": {},
   "outputs": [],
   "source": [
    "rel = {\n",
    "\n",
    "    # ordre\n",
    "    \">\":['plus grand', 'superieur', \"plus grand que\", \"superieur à\"],\n",
    "    \"\\\\geq\":['plus grand ou egal', 'superieur ou egal', 'plus grand ou egal à', \"superieur ou egal à\"],\n",
    "    \"<\":['plus petit', 'inferieur', 'plus petit que', 'inferieur à'],\n",
    "    \"\\\\leq\":['plus petit ou egal', 'inferieur ou egal', 'plus petit ou egal à', 'inferieur ou egal à'],\n",
    "\n",
    "    # égalité\n",
    "    \"=\":[\"egal\", \"egal à\"],\n",
    "    \"\\\\neq\":[\"different\", \"different de\"],\n",
    "    \"\\\\simeq\":[\"environ egal\", \"environ egal à\", \"isomorphe\", \"isomorphe à\"],\n",
    "    \"\\\\propto\":[\"proportionnel\", \"proportionnel à\"],\n",
    "    \"\\\\sim\":[\"suit\"],\n",
    "    \n",
    "    # ensembles\n",
    "    \"\\\\in\":[\"appartient\", \"appartient à\", \"dans\"],\n",
    "    \"\\\\notin\":[\"appartient pas\", \"appartient pas à\"],\n",
    "    \"\\\\subset\":[\"inclu\", \"inclu dans\"],\n",
    "    \"\\\\subseteq\":[\"inclu ou egal\", \"inclu ou egal à\"],\n",
    "    \"\\\\not\\\\subset\":[\"pas inclu\", \"pas inclu dans\", \"non inclu\", \"non inclu dans\"],\n",
    "    \"\\\\not\\\\subseteq\":[\"pas inclu ou egal\", \"non inclu ou egal\", \"pas inclu ou egal à\", \"non inclu ou egal à\"],\n",
    "\n",
    "    # convergence et équivalences\n",
    "    \"\\\\Rightarrow\":['implique'],\n",
    "    \"\\\\Leftrightarrow\":[\"equivalent\"],\n",
    "    \"\\\\rightarrow\":['fleche'],\n",
    "    \"\\\\longrightarrow\":['longue fleche', 'tend vers'],\n",
    "    '\\\\overset { L } { \\\\longrightarrow }':['converge en loi'],\n",
    "    '\\\\overset { \\\\mathbb { P } } { \\\\longrightarrow }':['converge en probabilite'],\n",
    "\n",
    "    # espace entre expressions\n",
    "    '\\\\quad':['espace']\n",
    "\n",
    "}"
   ]
  },
  {
   "cell_type": "markdown",
   "metadata": {},
   "source": [
    "## 4. Opérateurs"
   ]
  },
  {
   "cell_type": "markdown",
   "metadata": {},
   "source": [
    "### 4.1 Quantificateurs logiques"
   ]
  },
  {
   "cell_type": "code",
   "execution_count": 42,
   "metadata": {},
   "outputs": [],
   "source": [
    "quantif = {\n",
    "    \"\\\\forall\":['pour tout'],\n",
    "    \"\\\\exists\":['existe'],\n",
    "    \"\\\\exists !\":['existe un unique', 'existe unique'],\n",
    "}"
   ]
  },
  {
   "cell_type": "markdown",
   "metadata": {},
   "source": [
    "### 4.2 Opérateurs unaires"
   ]
  },
  {
   "cell_type": "code",
   "execution_count": 43,
   "metadata": {},
   "outputs": [],
   "source": [
    "un_op = {\n",
    "\n",
    "   \"+\":['plus'],\n",
    "   \"-\":[\"moins\"],\n",
    "\n",
    "}"
   ]
  },
  {
   "cell_type": "markdown",
   "metadata": {},
   "source": [
    "### 4.3 Opérateurs binaires"
   ]
  },
  {
   "cell_type": "code",
   "execution_count": 44,
   "metadata": {},
   "outputs": [],
   "source": [
    "bin_op = {\n",
    "\n",
    "    '+':['plus'],\n",
    "    '-':['moins'],\n",
    "    '.':['point', 'scalaire'],\n",
    "    '\\\\circ':['rond'],\n",
    "    '\\\\cup':['union'],\n",
    "    '\\\\cap':['inter'],\n",
    "    '\\\\times':['croix'],\n",
    "    '\\\\otimes':['tenseur', 'produit tensoriel', 'croix rond'],\n",
    "    '\\\\oplus':['somme directe', 'plus rond'],\n",
    "    '\\\\setminus':['prive', 'prive de'],\n",
    "    \"\\\\vee\":['ou'],\n",
    "    \"\\\\wedge\":['et'],\n",
    "\n",
    "}"
   ]
  },
  {
   "cell_type": "markdown",
   "metadata": {},
   "source": [
    "## 5. Indice et exposant"
   ]
  },
  {
   "cell_type": "code",
   "execution_count": 45,
   "metadata": {},
   "outputs": [],
   "source": [
    "# indice\n",
    "subscript = {\n",
    "    \"_\":[\"indice\", \"underscore\"]\n",
    "}\n",
    "\n",
    "# exposant \n",
    "supscript = {\n",
    "    \"^\":[\"exposant\", \"puissance\", \"supscript\"]\n",
    "}"
   ]
  },
  {
   "cell_type": "markdown",
   "metadata": {},
   "source": [
    "## 6. Fonctions et iterateurs"
   ]
  },
  {
   "cell_type": "markdown",
   "metadata": {},
   "source": [
    "### 6.1 Fonctions usuelles"
   ]
  },
  {
   "cell_type": "code",
   "execution_count": 46,
   "metadata": {},
   "outputs": [],
   "source": [
    "# fonctions de une variable\n",
    "func = {\n",
    "\n",
    "    '\\\\deg <apply>':['deg', 'degre'],\n",
    "    '\\\\dim <apply>':['dim', 'dimension'],\n",
    "    '\\\\det <apply>':['det', 'determinant'],\n",
    "    '\\\\exp <apply>':['exponentielle', 'exp'],\n",
    "    '\\\\log <apply>':['logarithme', 'log'],\n",
    "    '\\\\cos <apply>':['cosinus', 'cos'],\n",
    "    '\\\\sin <apply>':['sinus', 'sin'],\n",
    "    '\\\\arccos <apply>':['arccosinus', 'arc cosinus', 'arccos', 'arc cos'],\n",
    "    '\\\\arcsin <apply>':['arcsinus', 'arc sinus', 'arcsin', 'arc sin'],\n",
    "    '\\\\arctan <apply>':['arctangente', 'arc tangente', 'arctan', 'arc tan'],\n",
    "    '\\\\mathrm { Re } <apply>':['partie reelle'],\n",
    "    '\\\\mathrm { Im } <apply>':['partie imaginaire'],\n",
    "\n",
    "}\n",
    "\n",
    "# fonctions spéciales (avec controle de séquence différent)\n",
    "spec_func = {\n",
    "\n",
    "    '\\\\frac <apply>':['fraction', 'rapport'],\n",
    "    '\\\\sqrt <apply>':['racine'],\n",
    "    '\\\\binom <apply>':['binomial', 'coefficient binomial'],\n",
    "    '\\\\lVert <apply>':['norme'],\n",
    "    '\\\\vert <apply>':['valeur absolue'],\n",
    "    '\\\\mathbb { E } <apply>':['esperance'],\n",
    "    '\\\\mathbb { P } <apply>':['probabilite'],\n",
    "    '\\\\mathbb { V } <apply>':['variance'],\n",
    "    \"\\\\neg <apply>\" : ['non', 'negation'],\n",
    "    \"\\\\partial <apply>\" : [\"d rond\",\"derivee partielle\"],\n",
    "    \"\\\\nabla <apply>\" : [\"gradient\"]\n",
    "\n",
    "}\n",
    "\n",
    "# fonctions d'ensemble\n",
    "set_func = {\n",
    "\n",
    "    '\\\\min <apply>':['min', 'minimum'],\n",
    "    '\\\\max <apply>':['max', 'maximum'],\n",
    "    '\\\\mathrm { argmin } <apply>':['argmin', 'arg min', 'argument min', 'argument minimum'],\n",
    "    '\\\\mathrm { argmax } <apply>':['argmax', 'arg max', 'argument max', 'argument maximum'],\n",
    "    '\\\\sup <apply>':['sup', 'borne superieure'],\n",
    "    '\\\\inf <apply>':['inf', 'borne inferieure'],\n",
    "\n",
    "\n",
    "}\n",
    "\n",
    "# lois statistique à un paramètre\n",
    "law1 = {\n",
    "\n",
    "    '\\\\mathrm { Ber } <apply>':['loi de bernoulli', 'bernoulli', 'ber'],\n",
    "    '\\\\mathcal { G } <apply>':['loi geometrique'],\n",
    "    '\\\\mathcal { P } <apply>':['loi de poisson', 'loi poisson'],\n",
    "    '\\\\mathcal { E } <apply>':['loi exponentielle'],\n",
    "    '\\\\Chi ^ 2 <apply>' : ['chi deux', 'khi deux']\n",
    "\n",
    "}\n",
    "\n",
    "# lois statistiques à deux paramètres\n",
    "law2 = {\n",
    "\n",
    "    '\\\\mathcal { N } <apply>' : ['loi normale'],\n",
    "    '\\\\mathrm { Bin } <apply>' : ['loi binomiale', 'bin'],\n",
    "    '\\\\matrhm { Gamma } <apply>' : ['loi gamma'],\n",
    "\n",
    "}\n"
   ]
  },
  {
   "cell_type": "markdown",
   "metadata": {},
   "source": [
    "### 6.2 Itérateurs"
   ]
  },
  {
   "cell_type": "code",
   "execution_count": 47,
   "metadata": {},
   "outputs": [],
   "source": [
    "iter = {\n",
    "\n",
    "    '\\\\lim':['lim', 'limite'],\n",
    "    '\\\\bigotimes':['le produit tensoriel'],\n",
    "    '\\\\bigoplus':['la somme directe'],\n",
    "    '\\\\bigcup':[\"l' union\"],\n",
    "    '\\\\bigcap':[\"l' intersection\"],\n",
    "    '\\\\sum':['somme'],\n",
    "    '\\\\prod':['produit'],\n",
    "    '\\\\int':[\"integrale\"],\n",
    "    \n",
    "    \n",
    "}"
   ]
  },
  {
   "cell_type": "markdown",
   "metadata": {},
   "source": [
    "## 7. Symboles spéciaux"
   ]
  },
  {
   "cell_type": "markdown",
   "metadata": {},
   "source": [
    "### 7.1 caractères spéciaux"
   ]
  },
  {
   "cell_type": "code",
   "execution_count": 48,
   "metadata": {},
   "outputs": [],
   "source": [
    "symb = {\n",
    "\n",
    "    ':':['deux points', 'tel que'],\n",
    "    '\\\\dots':['trois points', 'trois petits points'],\n",
    "    ',':['virgule'],\n",
    "    '?':[\"point d' interrogation\"],\n",
    "    '\\\\%':['pourcent', 'pour cent'],\n",
    "    '\\\\vert':['conditionnellement', 'barre verticale'],\n",
    "    \n",
    "    \n",
    "}"
   ]
  },
  {
   "cell_type": "markdown",
   "metadata": {},
   "source": [
    "### 7.2 controle de sequence"
   ]
  },
  {
   "cell_type": "code",
   "execution_count": 49,
   "metadata": {},
   "outputs": [],
   "source": [
    "# math cseq\n",
    "math_cseq = {\n",
    "\n",
    "    \"(\":[\"parenthese\"],\n",
    "    \")\":[\"fermer la parenthese\", \"fermer parenthese\", \"parenthese fermante\", \"fin de parenthese\", \"fin parenthese\"],\n",
    "\n",
    "    \"[\":[\"crochet\"],\n",
    "    \"]\":[\"fermer le crochet\", \"fermer crochet\", \"crochet fermant\", \"fin de crochet\", \"fin crochet\"],\n",
    "\n",
    "    \"\\\\{\":[\"ensemble\"],\n",
    "    \"\\\\}\":[\"fermer l' ensemble\", \"fermer ensemble\", \"fin de l' ensemble\", \"fin ensemble\"],\n",
    "\n",
    "}\n",
    "\n",
    "\n",
    "# tex cseq\n",
    "tex_cseq = {\n",
    "\n",
    "    \"{\":[\"accolade\"],\n",
    "    \"}\":[\"fermer l' accolade\", \"fermer accolade\", \"accolade fermante\", \"fin de l' accolade\", \"fin accolade\"]\n",
    "    \n",
    "}"
   ]
  },
  {
   "cell_type": "markdown",
   "metadata": {},
   "source": [
    "## 8. Raccourcis naturels"
   ]
  },
  {
   "cell_type": "code",
   "execution_count": 55,
   "metadata": {},
   "outputs": [],
   "source": [
    "natural_expr = {\n",
    "\n",
    "    # relations d'ordre\n",
    "    \"\\\\geq 0\":  [\"positif\"],\n",
    "    \"> 0\":      [\"strictement positif\"],\n",
    "    \"\\\\leq 0\":  [\"negatif\"],\n",
    "    \"< 0\":      [\"strictement negatif\"],\n",
    "\n",
    "    # définition\n",
    "    \": =\":      [\"egal par definition\", \"defini par\"],\n",
    "\n",
    "    # puissances \n",
    "    \"^ 2\":      ['carre'],\n",
    "    \"^ 3\":      ['cube'],\n",
    "\n",
    "\n",
    "    # loi normale 0, 1\n",
    "    '\\\\mathcal { N } ( 0 , 1 )':['loi normale centree reduite','loi standard','loi n zero un'],\n",
    "    '\\\\quad \\\\text { resp. } \\\\quad':['respectivement'],\n",
    "\n",
    "}"
   ]
  },
  {
   "cell_type": "markdown",
   "metadata": {},
   "source": [
    "## 9. Mots clés pour l'analyse grammaticale"
   ]
  },
  {
   "cell_type": "code",
   "execution_count": 56,
   "metadata": {},
   "outputs": [],
   "source": [
    "grammar_keywords = {\n",
    "\n",
    "    # decoration de variable\n",
    "    \"<hat>\"         : [\"chapeau\"],\n",
    "    \"<tilde>\"       : [\"tilde\"],\n",
    "    \"<^*>\"          : ['etoile'],\n",
    "    \"<vec>\"         : ['vecteur'],\n",
    "    \"<'>\"           : ['apostrophe', 'prime'],\n",
    "    \n",
    "\n",
    "    # mots clés de structure grammaticale\n",
    "    \"<underset>\"    : [\"pour\"],\n",
    "    \"<from>\"        : [\"allant de\"],\n",
    "    \"<to>\"          : [\"à\"],\n",
    "    \"<apply>\"       : [\"de\"],\n",
    "    \"<over>\"        : [\"sur\"],\n",
    "    \"<fact>\"        : [\"facteur\", \"facteur de\"],\n",
    "    \"<overline>\"    : [\"barre\"],\n",
    "    '<!>'           : [\"point d' exclamation\", \"factoriel\"],\n",
    "    \"<^T>\"          : ['transpose'],\n",
    "\n",
    "    # symbole d'ouverture de type\n",
    "    \"{-{\":[],\n",
    "\n",
    "    # symbole de fermeture de type\n",
    "    \"}-}\":[],\n",
    "    \n",
    "}"
   ]
  },
  {
   "cell_type": "code",
   "execution_count": 57,
   "metadata": {},
   "outputs": [],
   "source": [
    "grammar_keys = {\n",
    "\n",
    "    # symboles grammaticaux\n",
    "    \"\\\\limits\":[],\n",
    "    \"\\\\tilde\":[],\n",
    "    \"\\\\overline\":[],\n",
    "    \"\\\\hat\":[],\n",
    "    \"\\\\vec\":[],\n",
    "    \"\\\\left\":[],\n",
    "    \"\\\\right\":[],\n",
    "    \"\\\\rVert\":[],\n",
    "    \"\\\\,\":[]\n",
    "\n",
    "}"
   ]
  },
  {
   "cell_type": "markdown",
   "metadata": {},
   "source": [
    "## 10. Enregistrement json"
   ]
  },
  {
   "cell_type": "code",
   "execution_count": 58,
   "metadata": {},
   "outputs": [],
   "source": [
    "tex_grammar = {\n",
    "\n",
    "    # noms de variables\n",
    "    \"var\":{\n",
    "\n",
    "        **min_char,\n",
    "        **maj_char,\n",
    "        **cal_char,\n",
    "        **mbb_char,\n",
    "        **greek_min_vars,\n",
    "        **greek_maj_vars,\n",
    "        **greek_var_vars,    \n",
    "    },\n",
    "\n",
    "    # differentiel\n",
    "    \"dvar\":dvar,\n",
    "\n",
    "    # vals\n",
    "    \"num\":digit,\n",
    "    \"infty\":infty,\n",
    "    \"set\":sets,\n",
    "    \n",
    "    # relations\n",
    "    \"rel\":rel,\n",
    "\n",
    "    # operateurs\n",
    "    \"qtf\":quantif,\n",
    "    \"uop\":un_op,\n",
    "    \"bop\":bin_op,\n",
    "\n",
    "    # indices et exposants\n",
    "    \"sub\":subscript,\n",
    "    \"sup\":supscript,\n",
    "\n",
    "    # fonctions et applications\n",
    "    \"fun\":func,\n",
    "    \"specfun\":spec_func,\n",
    "    \"setfun\":set_func,\n",
    "    \"law1\":law1,\n",
    "    \"law2\":law2,\n",
    "    \"iter\":iter, \n",
    "\n",
    "    # caractères spéciaux\n",
    "    \"symb\":symb,\n",
    "\n",
    "    # symboles de controle de sequence\n",
    "    \"mseq\":math_cseq,\n",
    "    \"tseq\":tex_cseq,\n",
    "\n",
    "    # expressions naturelles\n",
    "    \"naturalexpr\":natural_expr,\n",
    "\n",
    "    # éléments non utilisés par la partie lexicale\n",
    "    \"gkey\":grammar_keys,\n",
    "\n",
    "    # mots clés de grammaire (à supprimer sur la sortie)\n",
    "    \"grammar_keywords\":grammar_keywords,\n",
    "    \n",
    "}"
   ]
  },
  {
   "cell_type": "code",
   "execution_count": 60,
   "metadata": {},
   "outputs": [],
   "source": [
    "# enregistrement de la grammaire\n",
    "with open('grammar/tex_grammar.json', 'w', encoding=ENCODING) as file:\n",
    "    json.dump(tex_grammar, file, indent=4)\n",
    "\n",
    "# enregistrement du vocabulaire\n",
    "tex_words = set()\n",
    "seq_words = set()\n",
    "for rules in tex_grammar.values():\n",
    "    commands = rules.keys()\n",
    "    for rule in commands : \n",
    "        tex = rule.split()\n",
    "        for t in tex : \n",
    "            tex_words.add(t)\n",
    "        seqs = rules[rule]\n",
    "        for seq in seqs : \n",
    "            seq = seq.split()\n",
    "            for s in seq : \n",
    "                seq_words.add(s)\n",
    "\n",
    "dic_tex_words = {\n",
    "    \"tex_words\":list(tex_words)\n",
    "}\n",
    "\n",
    "with open('tokens/tex_letters.json', 'w', encoding=ENCODING) as file:\n",
    "    json.dump(dic_tex_words, file, indent=4)\n",
    "\n",
    "input = []\n",
    "output = []\n",
    "\n",
    "for dic in tex_grammar.values():\n",
    "    for tex in dic.keys():\n",
    "        for seq in dic[tex] : \n",
    "            input.append(seq)\n",
    "            output.append(tex) \n",
    "\n",
    "with open('rules/LexicalRules/math_rules_grammarkeys.txt', 'w', encoding=ENCODING) as writer:\n",
    "    writer.write(\"INPUT;OUTPUT;\\n\")\n",
    "    for i in range(len(input)):\n",
    "        writer.write(input[i] + \";\" + output[i] + \";\\n\")\n",
    "\n",
    "with open('rules/LexicalRules/math_rules.txt', 'w', encoding=ENCODING) as writer:\n",
    "    writer.write(\"INPUT;OUTPUT;\\n\")\n",
    "    for i in range(len(input)):\n",
    "        if not(output[i] in grammar_keys.keys() or output[i] in grammar_keywords.keys()): \n",
    "            writer.write(input[i] + \";\" + output[i] + \";\\n\")\n",
    "\n",
    "input_set = set()\n",
    "output_set = set()\n",
    "\n",
    "for dic in tex_grammar.values():\n",
    "    for tex in dic.keys():\n",
    "        for seq in dic[tex] :\n",
    "            for wrd in seq.split(): \n",
    "                input_set.add(wrd)\n",
    "        for stex in tex.split():    \n",
    "            output_set.add(stex)\n",
    "\n",
    "input_set\n",
    "\n",
    "with open(\"vocab/vocab.json\", 'w', encoding=ENCODING) as writer : \n",
    "    json.dump({symb:i for i, symb in enumerate(input_set)}, writer, indent=4)"
   ]
  },
  {
   "cell_type": "code",
   "execution_count": null,
   "metadata": {},
   "outputs": [],
   "source": []
  }
 ],
 "metadata": {
  "kernelspec": {
   "display_name": "Python 3",
   "language": "python",
   "name": "python3"
  },
  "language_info": {
   "codemirror_mode": {
    "name": "ipython",
    "version": 3
   },
   "file_extension": ".py",
   "mimetype": "text/x-python",
   "name": "python",
   "nbconvert_exporter": "python",
   "pygments_lexer": "ipython3",
   "version": "3.12.4"
  }
 },
 "nbformat": 4,
 "nbformat_minor": 2
}
